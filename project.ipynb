{
 "cells": [
  {
   "cell_type": "markdown",
   "metadata": {},
   "source": [
    "--- \n",
    "Project for the course in Microeconometrics | Summer 2021, M.Sc. Economics, Bonn University | Gözde Özden\n",
    "\n",
    "# Replication of Lee, D. S., Moretti, E., & Butler, M. J. (2004): Do Voters Affect or Elect Policies? Evidence from the US House.\n",
    "---"
   ]
  },
  {
   "cell_type": "markdown",
   "metadata": {},
   "source": [
    "This notebook contains my replication of the results from the following paper:\n",
    "\n",
    "> [Lee, D. S., Moretti, E., & Butler, M. J. (2004). Do Voters Affect or Elect Policies? Evidence from the US House. The Quarterly Journal of Economics, 119(3), 807-859](https://academic.oup.com/qje/article-abstract/119/3/807/1938834?redirectedFrom=fulltext).\n",
    "\n",
    "##### Downloading and viewing this notebook:\n",
    "\n",
    "\n",
    "* The best way to view this notebook is to visit repository which is located in from [GitHub](https://github.com/OpenSourceEconomics/ose-data-science-course-project-ozdengo). In the case of Latex rendering issue, the best way to view notebook properly is by downloading it. Also, it can be viewed by MyBinder or NBViewer. If some images are missing, please visit [files folder](https://github.com/OpenSourceEconomics/ose-data-science-course-project-ozdengo/tree/master/files).\n",
    "\n",
    "\n",
    "\n",
    "##### About this notebook:\n",
    "\n",
    "* I have three main purposes: \n",
    "\n",
    "    * First, to understand and investigate concepts and theories of the close election design using the paper of Lee et al.(2004).\n",
    "    * To replicate selected key parts and results of Lee et al.(2004). \n",
    "    * To extend the results by checking validity of the design and bandwidth sensivity across different polynomial of order.\n",
    "\n",
    "* I try to follow the original structure of the paper; however, the numbers of some titles may differ due to the fact that I do not replicate all parts of the paper.\n",
    "\n",
    " "
   ]
  },
  {
   "cell_type": "markdown",
   "metadata": {
    "toc": true
   },
   "source": [
    "<h1>Table of Contents<span class=\"tocSkip\"></span></h1>\n",
    "<div class=\"toc\">\n",
    "    <ul class=\"toc-item\">\n",
    "        <li><span><a href=\"#1.-Introduction\" data-toc-modified-id=\"1.-Introduction-1\">1. Introduction</a></span></li>\n",
    "        <li><span><a href=\"#2.-Identification\" data-toc-modified-id=\"2.-Identification-2\">2. Identification</a></span></li>\n",
    "        <li><span><a href=\"#3.-Theoretical-Framework\" data-toc-modified-id=\"3.-Theoretical-Framework-3\">3. Theoretical Framework</a></span></li>\n",
    "        <li><span><a href=\"#4.-Estimating-Framework\" data-toc-modified-id=\"4.-Estimating-Framework-4\">4. Estimating Framework</a></span></li>\n",
    "        <li><span><a href=\"#5.-Replication-of-Lee,-D.-S.,-Moretti,-E.,-&amp;-Butler,-M.-J.-(2004)\" data-toc-modified-id=\"5.-Replication-of-Lee,-D.-S.,-Moretti,-E.,-&amp;-Butler,-M.-J.-(2004)-5\">5. Replication of Lee, D. S., Moretti, E., &amp; Butler, M. J. (2004)</a></span>\n",
    "            <ul class=\"toc-item\">\n",
    "                <li><span><a href=\"#5.1.-Data-&amp;-Descriptive-Statistics\" data-toc-modified-id=\"5.1.-Data-&amp;-Descriptive-Statistics-5.1\">5.1. Data &amp; Descriptive Statistics</a></span></li>\n",
    "                <li><span><a href=\"#5.2.-Results\" data-toc-modified-id=\"5.2.-Results-5.2\">5.2. Results</a></span>\n",
    "                    <ul class=\"toc-item\">\n",
    "                        <li><span><a href=\"#5.2.1.-Main-Empirical-Results\" data-toc-modified-id=\"5.2.1.-Main-Empirical-Results-5.2.1\">5.2.1. Main Empirical Results</a></span></li>\n",
    "                        <li><span><a href=\"#5.2.2.-Test-for-Quasi-Random-Assignment\" data-toc-modified-id=\"5.2.2.-Test-for-Quasi-Random-Assignment-5.2.4\">5.2.2. Test for Quasi-Random Assignment</a></span></li>\n",
    "                        <li><span><a href=\"#5.2.3.-Sensitivity-to-Alternative-Measures-of-Voting-Records\" data-toc-modified-id=\"5.2.3.-Sensitivity-to-Alternative-Measures-of-Voting-Records-5.2.5\">5.2.3. Sensitivity to Alternative Measures of Voting Records</a></span></li>\n",
    "                        <li><span><a href=\"#5.2.4.-Heterogeneity\" data-toc-modified-id=\"5.2.4.-Heterogeneity-5.2.6\">5.2.4. Heterogeneity</a></span></li></ul></li></ul></li>\n",
    "                        <li><span><a href=\"#6.-Extensions\" data-toc-modified-id=\"6.-Extensions-6\">6. Extensions</a></span>\n",
    "    <ul class=\"toc-item\">\n",
    "        <li><span><a href=\"#6.1.-Check-for-the-Validity-of-the-Design\" data-toc-modified-id=\"6.1.-Check-for-the-Validity-of-the-Design-6.1\">6.1.  Check for the Validity of the Design</a></span>\n",
    "        <li><span><a href=\"#6.2.-Bandwidth-Sensitivity-and-Polynomial-Models\" data-toc-modified-id=\"6.2.-Bandwidth-Sensitivity-and-Polynomial-Models-6.2\">6.2. Bandwidth Sensitivity and Polynomial Models</a></span></li></ul></li>\n",
    "                        <li><span><a href=\"#7.-Conclusion\" data-toc-modified-id=\"7.-Conclusion-7\">7. Conclusion</a></span></li><li><span><a href=\"#8.-References\" data-toc-modified-id=\"8.-References-8\">8. References</a></span></li></ul></div>"
   ]
  },
  {
   "cell_type": "code",
   "execution_count": 1,
   "metadata": {},
   "outputs": [],
   "source": [
    "%matplotlib inline\n",
    "import numpy as np\n",
    "import pandas as pd\n",
    "import pyreadstat as pread\n",
    "import pandas.io.formats.style\n",
    "import statsmodels as sm\n",
    "import statsmodels.formula.api as smf\n",
    "import matplotlib.pyplot as plt\n",
    "from scipy.ndimage import gaussian_filter\n",
    "from IPython.display import HTML, display\n",
    "from stargazer.stargazer import Stargazer\n",
    "import warnings\n",
    "warnings.filterwarnings('ignore')\n"
   ]
  },
  {
   "cell_type": "code",
   "execution_count": 2,
   "metadata": {
    "scrolled": true
   },
   "outputs": [],
   "source": [
    "from auxiliary.auxiliary_plots import *\n",
    "from auxiliary.auxiliary_predictions import *\n",
    "from auxiliary.auxiliary_tables import *"
   ]
  },
  {
   "cell_type": "markdown",
   "metadata": {},
   "source": [
    "---\n",
    "# 1. Introduction \n",
    "---\n",
    "The goal of Lee et al.(2004) is to examine how voters affect policy. The power of voters to affect or elect policies is depending on candidates' desire to make credible promises to execute moderate policies. There are two main theories about how political competition affects policies. The first theory, the converge theory, argues that political competition enables candidates to be more moderate about their policies. The most well-known component of this is the Median Voter Theorem. Politicians who only care about winning choose the same policy in extreme cases as \"full policy convergence\" (Downs, 1957). When opposing candidates are concerned not only about winning the election, but also about the policies that are adopted, a similar result emerges. Although opposing candidates may not have identical policies, electoral competition will force them to pursue policies that are more moderate than their primary goals as \"partial policy convergence\" (Wittman,1938;Calvert,1985). In this theory, voters \"affect\" policies by promoting the candidates to modarate their policies toward median voter.\n",
    "\n",
    "Downs' theorem may be compromised in the case that main concerns of the politicians are policies and there is no chance for binding about policies. The second theory, the divergence theory, indicates that the elected politicians cannot be credible about the policy promises they make when they are candidates (Alesina, 1988). They simply adopt their fixed policies once they got the office. In this theory, voters merely \"elect\" policies rather than affecting policies as in converge theory. \n",
    "\n",
    "On the one side, politicians moderate their policies when electoral promises are credible as in \"partial policy converge\". On the other side, elections are only a means of determining whether candidate's fixed policy will be adopted when politicans are not credible about their policy promises. The real question is that which of these opposite perspectives is more empirically valid. The paper of Lee et al. evaluates the relative importance of these different perspectives by regression discontiunity design and roll-call voting records data from the US House between 1946 and 1995.\n",
    "\n",
    "This paper first discusses the identification strategy, then establishes theoretical and emprical frameworks. The results. The fifth parth of this paper presents the replication results of original paper. The fourth part contains my extensions about banwidth sensivity and polynomial order. The sixth part of this paper concludes.\n",
    "\n"
   ]
  },
  {
   "cell_type": "markdown",
   "metadata": {},
   "source": [
    "---\n",
    "# 2. Identification\n",
    "--- \n",
    "Lee, Moretti and Butler indicates that the best way to understand the role of voters is to compare most preferred policies (\"bliss points\") of candidates with the policies they will actually adopt. More modarate voting records than candidates' bliss points show that voting behavior influences candidates' policy decisions. If the bliss points and voting records are same, the role of voters is electing the policies. However, because of the fact that there are no accurate assessments of candidates' bliss points, such an analysis is impossible.\n",
    "\n",
    "Therefore, they adapted very clever structure. First of all, they focus on Democrat wins to examine whether voter affect or elect policies. Because it is important to eliminate any difficulties that occurs due to differences in ideological preferences of voters and politicians, demographic structures, resources available for candidates; they aim to randomize the Democrat win. To do so, they focus on wins with very narrow margin. For instance, they begin their analysis with less than a 2 percent vote share. Therefore, they try to create a virtual random environment in which it is ambigious who would get the office. It is obvious that the winner of 1992 election will have relatively stronger position in 1994 election. However, the main point of this structure is that creating randomized environment for 1992 elections provides randomized environment in which party's candidate has greater electoral strength for 1994 election. They try to use this difference in electoral strength to understand the effect of fully divergence and partially convergence. \n",
    "\n",
    "They compare the voting scores of the winners in 1995-1996 elections where the Democrats got the office in 1994 elections and the voting scores of the winners where the Republicans got the office. This effect called as \"overal effect\" and consists of two factors. \n",
    "\n",
    "The first factor is the effect of voting scores in 1995-1996 where the incumbent is Democrat in 1994 elections. Since the winner party in 1994 election will have greater electoral strength in the next election and Democrats are more liberal, it is expected that the voting scores would be more liberal in 1995-1996 election. Therefore, first factor indicates how policies elected by voters. It can be computed by analyzing the probability that Democrat will be winner where the office is gotten by Democrats and the difference between the votes of Democrats and Republicans.\n",
    "\n",
    "The second factor shows that what candidates reaction would be to an exogenous shock of winning probability in 1994 election. In the case that politicians need to follow their promises, the votes of a Democrat candidate running against a Republican who is winner in 1994 election are expected to be less liberal than a Democrat incumbent. Therefore, this effect indicates how voters \"affect\" policies. \n",
    "\n",
    "It is essential to compute relative magnitudes of these two factors to understand the relative importance of these effects: full policy divergence and partial policy convergence. This computation is possible thanks to randomization of Democrat wins.\n",
    "\n",
    "\n",
    "\n",
    "\n",
    "<table><tr>\n",
    "    <td><img src=\"files/causalgraph1.PNG\" width=\"500\" height=\"500\"></td>\n",
    "    <td><img src=\"files/causalgraph2.PNG\" width=\"510\" height=\"550\"></td>\n",
    "</tr></table>\n",
    "    \n",
    "\n",
    "\n"
   ]
  },
  {
   "cell_type": "markdown",
   "metadata": {},
   "source": [
    "---\n",
    "# 3. Theoretical Framework\n",
    "---\n",
    "The underlying framework utilized for the analysis is a framework developed by Alesina (2008). Consider that there are two parties: D (Democrats) and R (Republicans). Assume that the policy space is unidimensional and policy preferences of Democrats and Republicans are represented by quadratic loss functions, respectively: $u(l) = -(1/2)(l-c)^2$ and $v(l) = -(1/2)l^2$ where $l$ is policy variable and $c(>0)$ bliss points.\n",
    "\n",
    "The expected policy preferences of D and R before election are, respectively, $x^e$ and $y^e$ and rational expectations denoted by $x = x^e$ and $y=y^e$. The expected probability of win for a candidate is $P(x^e,y^e)$. \n",
    "\n",
    "When $x^e>y^e$, the best strategy to get more votes is to moderate policy preferences such that:\n",
    "\n",
    "\\begin{equation}\n",
    "    \\frac{\\partial P}{\\partial x^e} > 0 , \\frac{\\partial P}{\\partial y^e} > 0\n",
    "\\end{equation}\n",
    "\n",
    "This game repeats for every period where period $t$ includes the election and the subsequent Congressional session, and same for next periods. For example, period $t = 1992$ consists of 1992 election and roll-call votes ($RC_{t}$) for Congressional session in 1993-1994. \n",
    "\n",
    "There are 3 Nash equilibria for the solution of this game:\n",
    "\n",
    " 1. **Full Policy Convergence**: $x^* = y^* = \\lambda^*c$\n",
    "     * The key result: \n",
    "      \\begin{equation}\n",
    "         \\frac{\\partial P}{\\partial x^e} = \\frac{\\partial P}{\\partial y^e} = (\\frac{\\partial \\lambda}{\\partial P^*})c > 0\n",
    "      \\end{equation}<br>\n",
    "     * An increase in $P^*$ means that an exogenous increase in popularity of Democrats (like a helicopter drop of Democrats) and an increase in bargaining power of Democrats. Since the candidates change their policy preferences and adopt the same policies as $\\frac{\\partial x^*}{\\partial P^*} > 0$, voters affect policies.\n",
    "     \n",
    "     \n",
    " 2. **Partial Policy Convergence**: $0≤y^*≤x^*≤c$ \n",
    "     * The key result:\n",
    "     \\begin{equation}\n",
    "         \\frac{\\partial x^*}{\\partial P^*},\\frac{\\partial y^*}{\\partial P^*} > 0  \n",
    "     \\end{equation}<br>\n",
    "     * Voters can effect the policy promises of candidates although they cannot force them to adopt the same policies.\n",
    "    \n",
    "    \n",
    " 3. **Full Policy Divergence**: $x^*=c, y^*=0$\n",
    "     * The key result: \n",
    "     \\begin{equation}\n",
    "         \\frac{\\partial x^*}{\\partial P^*}  , \\frac{\\partial y^*}{\\partial P^*} = 0  \n",
    "     \\end{equation} <br>\n",
    "     * Exogenous increase or decrease in popularity does not affect the equilibrium. Therefore, voters can merely elect the policies.\n",
    "     \n",
    "     \n",
    "     \n",
    "There are two main assumption about voters that they are forward-looking and rational. In real life, candidates do not need to be credible about their policy promises. But in this game, it is assumed that candidates are credible due to prevent any lose on their reputation (Alesina, 1988).\n",
    " \n",
    "\n",
    "     \n",
    " \n"
   ]
  },
  {
   "cell_type": "markdown",
   "metadata": {},
   "source": [
    "---\n",
    "# 4. Estimating Framework\n",
    "---\n",
    "The record of the roll-call voting outcomes for the candidates is computed as:\n",
    "\n",
    "\\begin{equation}\n",
    "RC_{t} = (1 - D_{t})y_{t} + D_{t}x_{t}\n",
    "\\end{equation}\n",
    "\n",
    "where $D_{t}$ represents whether Democrat wins the election in period t. Note that, the only observable policy is the winner's policy. \n",
    "\n",
    "This equilibrium is converted into regression equilibrium as :\n",
    "\n",
    "\\begin{equation}\n",
    "RC_{t} = constant + π_{0}P_{t}^* + π_{1}D_{t} + \\epsilon_{t}\n",
    "\\end{equation}\n",
    "\n",
    "\n",
    "\\begin{equation}\n",
    "RC_{t+1} = constant + π_{0}P_{t+1}^* + π_{1}D_{t+1} + \\epsilon_{t+1}\n",
    "\\end{equation}\n",
    "\n",
    "where $P^*$ indicates the popularity of D, and $\\epsilon$ indicates the heterogeneity in bliss points across districts. If $π > 0$, then voters can affect policies as partial policy convergence. If $π = 0$, then voters merely effect policies as full policy divergence. \n",
    "\n",
    "This regression equation cannot be computed directly due to the fact that $P^*$ is unobservable. However, we can let $D_{t}$ to be independent from $P_{t}^*$ and $\\epsilon_{t}^*$ by randomizing the $D_{t}$. It follows that:\n",
    "\n",
    "\n",
    "\\begin{equation} \\label{eq1}\n",
    "\\begin{split}\n",
    "\\underbrace{E[RC_{t+1} | D_{t} = 1] - E[RC_{t+1} | D_{t} = 0]}_\\text{observable} & = \\underbrace{π_{0}[P_{t+1}^*D - P_{t+1}^*R]}_\\text{\"affect\" component (unobservable)} \\\\ \n",
    "& + \\underbrace{π_{1}[P_{t+1}^D - P_{t+1}^R]}_\\text{\"elect\" component (observable)} \\\\ \n",
    "& =  \\underbrace{\\gamma}_\\text{total effect (observable)}  \n",
    "\\end{split}\n",
    "\\end{equation}\n",
    "\n",
    "where superscripts of D and R indicate the winner.\n",
    "\n",
    "$\\gamma$ indicates the overall effect of Democrat win in t on $RC_{t+1}$ and it is sum of elect and affect components. It can be computed by the simple difference in $RC_{t+1}$ between the regions where D and R got the office in $t$.\n",
    "\n",
    "\\begin{equation}\n",
    "E[RC_{t} | D_{t} = 1] - E[RC_{t} | D_{t} = 0] = π_1\n",
    "\\end{equation}\n",
    "\n",
    "Basically, $π_1$ can be computed by the difference in $RC_t$ between the regions won by D and R. \n",
    "\n",
    "\\begin{equation}\n",
    "E[D_{t+1} | D_{t} = 1] - E[D_{t+1} | D_{t} = 0] = P_{t+1}^D - P_{t+1}^R\n",
    "\\end{equation}\n",
    "\n",
    "The rest of the elect component can be computed by the difference in fraction of districts won by D in $t+1$.\n",
    "\n",
    "Since the affect component cannot be estimated directly, it can be estimated by substracting the elect component from the total effect. The essential point is the randomization of $D_t$. Without it, there would be bias for $\\gamma$ and $π_1$ and it will show that how policiticans can have more liberal bliss points in the districts where Democrats won. \n",
    "\n",
    "\n",
    "\n",
    "\n",
    "\n"
   ]
  },
  {
   "cell_type": "markdown",
   "metadata": {},
   "source": [
    "---\n",
    "# 5. Replication of Lee, D. S., Moretti, E., & Butler, M. J. (2004)\n",
    "---"
   ]
  },
  {
   "cell_type": "markdown",
   "metadata": {},
   "source": [
    "## 5.1. Data & Descriptive Statistics\n",
    "\n",
    "\n",
    "The result of Lee et al. based on the data from U.S. House of Representatives election results from 1946 to 1996. There are several ways to measure the voting records of Representatives. They use the data of Americans for Democratic Action (ADA) provided by the liberal political organization for voting records since it is commonly used index in the literature. Twenty high-profile roll-call votes are selected by ADA for each congress, and an index between 0 and 100 is created for each Representative. Higher ADA score means that the voting record of Representative is more liberal. \n",
    "They also calculate the Democrat share of votes by dividing the number of Democrat votes to the number of votes for both the Democrat and the Republican."
   ]
  },
  {
   "cell_type": "markdown",
   "metadata": {},
   "source": [
    "---\n",
    "<span style=\"color:orange\">**NOTE**:</span> The original data used in this paper by authors are available at [here](https://eml.berkeley.edu/~moretti/papers.html).\n",
    "\n",
    "---"
   ]
  },
  {
   "cell_type": "markdown",
   "metadata": {},
   "source": [
    "#### Table 1- Summary statistics"
   ]
  },
  {
   "cell_type": "code",
   "execution_count": 3,
   "metadata": {
    "scrolled": true
   },
   "outputs": [
    {
     "data": {
      "text/html": [
       "<div>\n",
       "<style scoped>\n",
       "    .dataframe tbody tr th:only-of-type {\n",
       "        vertical-align: middle;\n",
       "    }\n",
       "\n",
       "    .dataframe tbody tr th {\n",
       "        vertical-align: top;\n",
       "    }\n",
       "\n",
       "    .dataframe thead th {\n",
       "        text-align: right;\n",
       "    }\n",
       "</style>\n",
       "<table border=\"1\" class=\"dataframe\">\n",
       "  <thead>\n",
       "    <tr style=\"text-align: right;\">\n",
       "      <th></th>\n",
       "      <th>realada</th>\n",
       "      <th>demvoteshare</th>\n",
       "      <th>lagdemvoteshare</th>\n",
       "    </tr>\n",
       "  </thead>\n",
       "  <tbody>\n",
       "    <tr>\n",
       "      <th>count</th>\n",
       "      <td>18842.00</td>\n",
       "      <td>20238.00</td>\n",
       "      <td>18972.00</td>\n",
       "    </tr>\n",
       "    <tr>\n",
       "      <th>mean</th>\n",
       "      <td>40.74</td>\n",
       "      <td>0.58</td>\n",
       "      <td>0.58</td>\n",
       "    </tr>\n",
       "    <tr>\n",
       "      <th>std</th>\n",
       "      <td>32.69</td>\n",
       "      <td>0.23</td>\n",
       "      <td>0.23</td>\n",
       "    </tr>\n",
       "    <tr>\n",
       "      <th>min</th>\n",
       "      <td>-27.92</td>\n",
       "      <td>0.00</td>\n",
       "      <td>0.00</td>\n",
       "    </tr>\n",
       "    <tr>\n",
       "      <th>25%</th>\n",
       "      <td>10.22</td>\n",
       "      <td>0.41</td>\n",
       "      <td>0.41</td>\n",
       "    </tr>\n",
       "    <tr>\n",
       "      <th>50%</th>\n",
       "      <td>36.58</td>\n",
       "      <td>0.55</td>\n",
       "      <td>0.55</td>\n",
       "    </tr>\n",
       "    <tr>\n",
       "      <th>75%</th>\n",
       "      <td>71.63</td>\n",
       "      <td>0.71</td>\n",
       "      <td>0.72</td>\n",
       "    </tr>\n",
       "    <tr>\n",
       "      <th>max</th>\n",
       "      <td>128.85</td>\n",
       "      <td>1.00</td>\n",
       "      <td>1.00</td>\n",
       "    </tr>\n",
       "  </tbody>\n",
       "</table>\n",
       "</div>"
      ],
      "text/plain": [
       "        realada  demvoteshare  lagdemvoteshare\n",
       "count  18842.00      20238.00         18972.00\n",
       "mean      40.74          0.58             0.58\n",
       "std       32.69          0.23             0.23\n",
       "min      -27.92          0.00             0.00\n",
       "25%       10.22          0.41             0.41\n",
       "50%       36.58          0.55             0.55\n",
       "75%       71.63          0.71             0.72\n",
       "max      128.85          1.00             1.00"
      ]
     },
     "execution_count": 3,
     "metadata": {},
     "output_type": "execute_result"
    }
   ],
   "source": [
    "pd.set_option(\"display.precision\",2)\n",
    "data = pread.read_dta(\"data/enricoall2.dta\")[0]\n",
    "data[[\"realada\",\"demvoteshare\",\"lagdemvoteshare\"]].describe()\n"
   ]
  },
  {
   "cell_type": "markdown",
   "metadata": {},
   "source": [
    "##  5.2. Results"
   ]
  },
  {
   "cell_type": "markdown",
   "metadata": {},
   "source": [
    "### 5.2.1. Main Empirical Results"
   ]
  },
  {
   "cell_type": "markdown",
   "metadata": {},
   "source": [
    "It is important to examine the effect of exogenous change in roll-call votes to understand the difference between the effects of full policy divergence and partial policy divergence.\n",
    "The total effect ( $\\gamma$ ) contains of two factors. These factors are the elect component ( $π_1[P^{D}_{t+1} - P^{R}_{t+1}]$ ) and the effect component ( $π_0[P^{*D}_{t+1} - P^{*R}_{t+1}]$ ).\n",
    "\n",
    "The elect component is expected to be higher than the effect component and candidates do not make big adjusments in their policy promises if voters merely elect the policies. The affect component will be higher than the elect component and candidates adjust their bliss points to increase their winning probability if voters affect policies.\n",
    "\n",
    "The first graph shows the ADA scores at $t+1$ against the Democrat vote share at $t$. Each point on the graph indicates the average ADA score at $t+1$ with 0.01 intervals of the vote share at $t$. The verdical line shows the cutoff, 50% of the vote share. The right side of the line indicates the Democrat win districts while the left side is for the Republican win districts. The continuous line is the predicted ADA score at $t+1$. It is calculated by a regression that contains fourth-order polynomial in vote share and a dummy for the vote share of above the cutoff and an interaction between dummy and polnomial component. The dotted lines shows the 95% confidence interval.\n",
    "\n",
    "There is an obvious discontinuous jump, about twenty points, in ADA score at the cutoff line on the graph below. This discontinuity indicates the total effect ($\\gamma$). It is expected to that the probability of Democrat win at $t+1$ is higher if the winner is Democrat at $t$ in the same district. Therefore, the district that run by a Democrat at $t$ would be more liberal at $t+1$ due to advantage of winning. This first effect called as \"elect\" component as I discussed above. \n",
    "\n",
    "The second component that affects $\\gamma$ is the affect component. In order to understand this component, we should compare a Democrat in a district where a Republican held the seat (left side of the graph) and other Democrat who is incumbent in her district (right side of the graph). In this case, a democrat who is challenging a Republican should adjust her policies more than an incumbent Democrat. This is another affect to that the district would be more liberal, where a Democrat held the seat.\n"
   ]
  },
  {
   "cell_type": "markdown",
   "metadata": {},
   "source": [
    "#### Figure 1 - Total Effect of Initial Win on Future ADA Scores: $\\gamma$"
   ]
  },
  {
   "cell_type": "code",
   "execution_count": 4,
   "metadata": {},
   "outputs": [
    {
     "data": {
      "image/png": "[encoded data removed]",
      "text/plain": [
       "<Figure size 432x288 with 1 Axes>"
      ]
     },
     "metadata": {
      "needs_background": "light"
     },
     "output_type": "display_data"
    }
   ],
   "source": [
    "ada_score(data, lag=True) "
   ]
  },
  {
   "cell_type": "markdown",
   "metadata": {},
   "source": [
    "The real question is that which component dominates another altough e found the $\\gamma$. However; due to the fact that it is impossible to compute the affect component, we should analyze the elect component first in order to compare both effects. To analyze the elect component, Lee et al. compute $π_1$, the expected difference in votes between two parties, and [ $P^{D}_{t+1} - P^{R}_{t+1}$ ], the advantage of winning party, separately. Then, we can substract the elect component from $\\gamma$ to analyze the affect component. \n",
    "\n",
    "In Figure 2a, it is a jump at the cutoff about 45 points. In order to understand this jump, we should compare the disctricts where a Democrat barely won and lost. Therefore, we can understand voting of Democrats in district where barely won by a Republican thanks to average voting records of Democrats who barely won the election. "
   ]
  },
  {
   "cell_type": "markdown",
   "metadata": {},
   "source": [
    "#### Figure 2a - Effect of Party Affiliation: $π_1$"
   ]
  },
  {
   "cell_type": "code",
   "execution_count": 5,
   "metadata": {},
   "outputs": [
    {
     "data": {
      "image/png": "[encoded data removed]",
      "text/plain": [
       "<Figure size 432x288 with 1 Axes>"
      ]
     },
     "metadata": {
      "needs_background": "light"
     },
     "output_type": "display_data"
    }
   ],
   "source": [
    "ada_score(data, lag=False)"
   ]
  },
  {
   "cell_type": "markdown",
   "metadata": {},
   "source": [
    "The figure 2b indicates that the probability of winning for a Democrat is higher at $t+1$ in disctricts where a Democrat barely won at $t$. In this case, the jump is about 5 point."
   ]
  },
  {
   "cell_type": "markdown",
   "metadata": {},
   "source": [
    "#### Figure 2b - Effect of Initial Win on Winning Next Election: ( $P^{D}_{t+1} - P^{R}_{t+1}$ )"
   ]
  },
  {
   "cell_type": "code",
   "execution_count": 6,
   "metadata": {},
   "outputs": [
    {
     "data": {
      "image/png": "[encoded data removed]",
      "text/plain": [
       "<Figure size 432x288 with 1 Axes>"
      ]
     },
     "metadata": {
      "needs_background": "light"
     },
     "output_type": "display_data"
    }
   ],
   "source": [
    "probability_democrat(data)"
   ]
  },
  {
   "cell_type": "markdown",
   "metadata": {},
   "source": [
    "For all graphs above, it is important to take account that the RD design is valid and the the winner at $t$ is generated by a random assignment. "
   ]
  },
  {
   "cell_type": "markdown",
   "metadata": {},
   "source": [
    "Figure 1 shows that the total effect $\\gamma$ is about twenty ADA points. Figure 2a indicates that $π_1$ is about 45 points and [ $P^{D}_{t+1} - P^{R}_{t+1}$ ] is about 0.5 points. Therefore the elect component, $π_1[ P^{D}_{t+1} - P^{R}_{t+1} ]$, is about $ 45 x 0.5 = 22.5 $. The difference between the total effect and elect component is $ 20 - 22.5 = - 2.5$. We understand that the exogenous shock in ADA score is not determined by the change in policy promises of candidates to increase her the probability of winning. This effect only works by changing the relative probability that a party that will get the office. Therefore, these graphs show that voters elect policies instead of affecting them. "
   ]
  },
  {
   "cell_type": "markdown",
   "metadata": {},
   "source": [
    "Table 2 is created to understand the results deeply. Column 1 corresponds to the jump in Figure 1. It determined by the difference in average ADA scores at $t+1$ between the districts where Democrat vote share between 50% and 52% and the districts where Democrat vote share between 48% and 50%. The result of this difference is $21.4$.\n",
    "\n",
    "Column 2 corresponds to the jump in Figure 2a, which is equal to $π_1$. It shows the difference in ADA score at $t$ between the disricts where Democrat vote share between 50% and 52% and the districts where Democrat vote share between 48% and 50%. The estimated result of difference is $47.7$.\n",
    "\n",
    "Column 3 corresponds to [ $P^{D}_{t+1} - P^{R}_{t+1}$ ] which is graphed in Figure 2b. The estimated result of this jump is $0.46$. It means that in a district where the winner was Democrat at time $t$, the probability of being winner for a Democrat. is $0.46$ higher. \n",
    "\n",
    "In column 4, to compute the elect component ( $π_1[P^{D}_{t+1} - P^{R}_{t+1}]$ ), I multiply column 2 and column 3 as Lee et al.\n",
    "The result is $22.08$ and it is similar with the result in column 1. Therefore, it is possible to conclude that the affect component is small than the elect component. "
   ]
  },
  {
   "cell_type": "markdown",
   "metadata": {},
   "source": [
    "#### Table 2 - Results Basen on ADA Scores - Close Elections Sample"
   ]
  },
  {
   "cell_type": "code",
   "execution_count": 7,
   "metadata": {},
   "outputs": [
    {
     "data": {
      "text/html": [
       "<table style=\"text-align:center\"><tr><td colspan=\"4\" style=\"border-bottom: 1px solid black\"></td></tr><tr><td style=\"text-align:left\"></td><tr><td></td><td colspan=\"1\">$\\gamma$</td><td colspan=\"1\">$π_1$</td><td colspan=\"1\">($P^{D}_{t+1} - P^{R}_{t+1}$)</td></tr><tr><td colspan=\"4\" style=\"border-bottom: 1px solid black\"></td></tr><tr><td style=\"text-align:left\">Intercept</td><td>31.28<sup>***</sup></td><td>18.90<sup>***</sup></td><td>0.24<sup>***</sup></td></tr><tr><td style=\"text-align:left\"></td><td>(1.36)</td><td>(0.92)</td><td>(0.02)</td></tr><tr><td style=\"text-align:left\">democrat</td><td></td><td>47.70<sup>***</sup></td><td></td></tr><tr><td style=\"text-align:left\"></td><td></td><td>(1.32)</td><td></td></tr><tr><td style=\"text-align:left\">lagdemocrat</td><td>21.46<sup>***</sup></td><td></td><td>0.46<sup>***</sup></td></tr><tr><td style=\"text-align:left\"></td><td>(1.91)</td><td></td><td>(0.03)</td></tr><td colspan=\"4\" style=\"border-bottom: 1px solid black\"></td></tr><tr><td style=\"text-align: left\">Observations</td><td>950</td><td>950</td><td>1,019</td></tr><tr><td style=\"text-align: left\">R<sup>2</sup></td><td>0.12</td><td>0.58</td><td>0.21</td></tr><tr><td style=\"text-align: left\">Adjusted R<sup>2</sup></td><td>0.12</td><td>0.58</td><td>0.21</td></tr><tr><td style=\"text-align: left\">Residual Std. Error</td><td>29.50 (df=948)</td><td>20.40 (df=948)</td><td>0.44 (df=1017)</td></tr><tr><td style=\"text-align: left\">F Statistic</td><td>125.65<sup>***</sup> (df=1; 948)</td><td>1297.90<sup>***</sup> (df=1; 948)</td><td>278.07<sup>***</sup> (df=1; 1017)</td></tr><tr><td colspan=\"4\" style=\"border-bottom: 1px solid black\"></td></tr><tr><td style=\"text-align: left\">Note:</td>\n",
       " <td colspan=\"3\" style=\"text-align: right\">\n",
       "  <sup>*</sup>p&lt;0.1;\n",
       "  <sup>**</sup>p&lt;0.05;\n",
       "  <sup>***</sup>p&lt;0.01\n",
       " </td></tr></table>"
      ],
      "text/plain": [
       "<stargazer.stargazer.Stargazer at 0x7fee484eeb20>"
      ]
     },
     "execution_count": 7,
     "metadata": {},
     "output_type": "execute_result"
    }
   ],
   "source": [
    "table_vscore(data, 'realada', bandwidth = True)"
   ]
  },
  {
   "cell_type": "markdown",
   "metadata": {},
   "source": [
    "#### Extension | Table - Results Basen on ADA Scores - Full Elections Sample"
   ]
  },
  {
   "cell_type": "markdown",
   "metadata": {},
   "source": [
    "In the case that we estimate the global regression, the coefficients are larger than close election as in extension table below. The distance at $c_0$ spreads widely due to the fact that strong outliers exist in the data. Therefore, we have to restrict data as above to eliminate these outliers."
   ]
  },
  {
   "cell_type": "code",
   "execution_count": 8,
   "metadata": {},
   "outputs": [
    {
     "data": {
      "text/html": [
       "<table style=\"text-align:center\"><tr><td colspan=\"4\" style=\"border-bottom: 1px solid black\"></td></tr><tr><td style=\"text-align:left\"></td><tr><td></td><td colspan=\"1\">$\\gamma$</td><td colspan=\"1\">$π_1$</td><td colspan=\"1\">($P^{D}_{t+1} - P^{R}_{t+1}$)</td></tr><tr><td colspan=\"4\" style=\"border-bottom: 1px solid black\"></td></tr><tr><td style=\"text-align:left\">Intercept</td><td>23.62<sup>***</sup></td><td>16.27<sup>***</sup></td><td>0.12<sup>***</sup></td></tr><tr><td style=\"text-align:left\"></td><td>(0.38)</td><td>(0.32)</td><td>(0.00)</td></tr><tr><td style=\"text-align:left\">democrat</td><td></td><td>41.83<sup>***</sup></td><td></td></tr><tr><td style=\"text-align:left\"></td><td></td><td>(0.42)</td><td></td></tr><tr><td style=\"text-align:left\">lagdemocrat</td><td>31.43<sup>***</sup></td><td></td><td>0.82<sup>***</sup></td></tr><tr><td style=\"text-align:left\"></td><td>(0.49)</td><td></td><td>(0.00)</td></tr><td colspan=\"4\" style=\"border-bottom: 1px solid black\"></td></tr><tr><td style=\"text-align: left\">Observations</td><td>13,983</td><td>14,973</td><td>14,970</td></tr><tr><td style=\"text-align: left\">R<sup>2</sup></td><td>0.23</td><td>0.40</td><td>0.67</td></tr><tr><td style=\"text-align: left\">Adjusted R<sup>2</sup></td><td>0.23</td><td>0.40</td><td>0.67</td></tr><tr><td style=\"text-align: left\">Residual Std. Error</td><td>28.70 (df=13981)</td><td>25.45 (df=14971)</td><td>0.28 (df=14968)</td></tr><tr><td style=\"text-align: left\">F Statistic</td><td>4079.97<sup>***</sup> (df=1; 13981)</td><td>9802.25<sup>***</sup> (df=1; 14971)</td><td>30778.71<sup>***</sup> (df=1; 14968)</td></tr><tr><td colspan=\"4\" style=\"border-bottom: 1px solid black\"></td></tr><tr><td style=\"text-align: left\">Note:</td>\n",
       " <td colspan=\"3\" style=\"text-align: right\">\n",
       "  <sup>*</sup>p&lt;0.1;\n",
       "  <sup>**</sup>p&lt;0.05;\n",
       "  <sup>***</sup>p&lt;0.01\n",
       " </td></tr></table>"
      ],
      "text/plain": [
       "<stargazer.stargazer.Stargazer at 0x7fee41522ee0>"
      ]
     },
     "execution_count": 8,
     "metadata": {},
     "output_type": "execute_result"
    }
   ],
   "source": [
    "table_vscore(data, 'realada', bandwidth = False)"
   ]
  },
  {
   "cell_type": "markdown",
   "metadata": {},
   "source": [
    "### 5.2.2. Test for Quasi-Random Assignment"
   ]
  },
  {
   "cell_type": "markdown",
   "metadata": {},
   "source": [
    "It is crucial to remember that the randomization of the winner is key point for all estimation. Without it, estimation would be biased. The closer elections means that the difference in features of Democrats and Republicans become smaller. \n",
    "\n",
    "For instance, we can say that the probability of winning for a Democrat is higher than a Republican in South districts based on the comparison geographical locations. However, if we restrict the elections around a cutoff, this difference decreases. \n",
    "\n",
    "Differences occur due to characteristics is graphed in Figure 3 and 4. Real income, percentage of high school degree, percentage of black population, percentage of eligible for voting are analyzed to compare the differences at the 50% threshold. It is found that these differences are statistically insignificant and small. "
   ]
  },
  {
   "cell_type": "markdown",
   "metadata": {},
   "source": [
    "#### Figure 3 - Similarity of Constituents’ Characteristics in Bare Democrat and Republican Districts—Part 1"
   ]
  },
  {
   "cell_type": "code",
   "execution_count": 9,
   "metadata": {},
   "outputs": [],
   "source": [
    "variables_1 = [\"realincome\", \"pctblack\", \"pcthighschl\", \"pcteligible\"]\n",
    "variables_2 = [\"votingpop\", \"North\", \"South\", \"West\"]\n",
    "all_variables = [variables_1, variables_2]"
   ]
  },
  {
   "cell_type": "code",
   "execution_count": 10,
   "metadata": {},
   "outputs": [
    {
     "data": {
      "image/png": "[encoded data removed]",
      "text/plain": [
       "<Figure size 432x288 with 4 Axes>"
      ]
     },
     "metadata": {
      "needs_background": "light"
     },
     "output_type": "display_data"
    }
   ],
   "source": [
    "subplot2_2(variables_1)"
   ]
  },
  {
   "cell_type": "markdown",
   "metadata": {},
   "source": [
    "#### Figure 4 - Similarity of Constituents’ Characteristics in Bare Democrat and Republican Districts—Part 2"
   ]
  },
  {
   "cell_type": "code",
   "execution_count": 11,
   "metadata": {},
   "outputs": [
    {
     "data": {
      "image/png": "[encoded data removed]",
      "text/plain": [
       "<Figure size 432x288 with 4 Axes>"
      ]
     },
     "metadata": {
      "needs_background": "light"
     },
     "output_type": "display_data"
    }
   ],
   "source": [
    "subplot2_2(variables_2)"
   ]
  },
  {
   "cell_type": "markdown",
   "metadata": {},
   "source": [
    "In Table 3, more characteristics used in order to understand the difference between Democrat and Republican. The results for entire sample can be seen in Column 1. Column 2 to Column 5, there are results for Democrat vote share with different restriction intervals In column 6, fourth order polynomial Democrat vote share is illustrated. It can be concluded that any significant difference is not observed around 50% threshold. Also, Figure 5 proves the continuity visually as there is no significant gap (3.8)."
   ]
  },
  {
   "cell_type": "markdown",
   "metadata": {},
   "source": [
    "A valid RD design is proved thanks to these results. Therefore, we can safely say that the winning is randomized in close election design. "
   ]
  },
  {
   "cell_type": "markdown",
   "metadata": {},
   "source": [
    "#### Table 3 - Difference in the District Characteristics between Democrat and Republican "
   ]
  },
  {
   "cell_type": "code",
   "execution_count": 12,
   "metadata": {},
   "outputs": [
    {
     "data": {
      "text/html": [
       "<style  type=\"text/css\" >\n",
       "</style><table id=\"T_8db0a_\" ><thead>    <tr>        <th class=\"blank\" ></th>        <th class=\"blank level0\" ></th>        <th class=\"col_heading level0 col0\" >All</th>        <th class=\"col_heading level0 col1\" >+/- 25</th>        <th class=\"col_heading level0 col2\" >+/- 10</th>        <th class=\"col_heading level0 col3\" >+/- 5</th>        <th class=\"col_heading level0 col4\" >+/- 2</th>        <th class=\"col_heading level0 col5\" >Polynomial</th>    </tr>    <tr>        <th class=\"index_name level0\" ></th>        <th class=\"index_name level1\" >type</th>        <th class=\"blank\" ></th>        <th class=\"blank\" ></th>        <th class=\"blank\" ></th>        <th class=\"blank\" ></th>        <th class=\"blank\" ></th>        <th class=\"blank\" ></th>    </tr></thead><tbody>\n",
       "                <tr>\n",
       "                        <th id=\"T_8db0a_level0_row0\" class=\"row_heading level0 row0\" rowspan=\"2\">North</th>\n",
       "                        <th id=\"T_8db0a_level1_row0\" class=\"row_heading level1 row0\" >coefficient</th>\n",
       "                        <td id=\"T_8db0a_row0_col0\" class=\"data row0 col0\" >-0.22</td>\n",
       "                        <td id=\"T_8db0a_row0_col1\" class=\"data row0 col1\" >-0.16</td>\n",
       "                        <td id=\"T_8db0a_row0_col2\" class=\"data row0 col2\" >-0.10</td>\n",
       "                        <td id=\"T_8db0a_row0_col3\" class=\"data row0 col3\" >-0.05</td>\n",
       "                        <td id=\"T_8db0a_row0_col4\" class=\"data row0 col4\" >-0.06</td>\n",
       "                        <td id=\"T_8db0a_row0_col5\" class=\"data row0 col5\" >3.64</td>\n",
       "            </tr>\n",
       "            <tr>\n",
       "                                <th id=\"T_8db0a_level1_row1\" class=\"row_heading level1 row1\" >err</th>\n",
       "                        <td id=\"T_8db0a_row1_col0\" class=\"data row1 col0\" >0.01</td>\n",
       "                        <td id=\"T_8db0a_row1_col1\" class=\"data row1 col1\" >0.01</td>\n",
       "                        <td id=\"T_8db0a_row1_col2\" class=\"data row1 col2\" >0.01</td>\n",
       "                        <td id=\"T_8db0a_row1_col3\" class=\"data row1 col3\" >0.02</td>\n",
       "                        <td id=\"T_8db0a_row1_col4\" class=\"data row1 col4\" >0.03</td>\n",
       "                        <td id=\"T_8db0a_row1_col5\" class=\"data row1 col5\" >0.28</td>\n",
       "            </tr>\n",
       "            <tr>\n",
       "                        <th id=\"T_8db0a_level0_row2\" class=\"row_heading level0 row2\" rowspan=\"2\">South</th>\n",
       "                        <th id=\"T_8db0a_level1_row2\" class=\"row_heading level1 row2\" >coefficient</th>\n",
       "                        <td id=\"T_8db0a_row2_col0\" class=\"data row2 col0\" >0.25</td>\n",
       "                        <td id=\"T_8db0a_row2_col1\" class=\"data row2 col1\" >0.14</td>\n",
       "                        <td id=\"T_8db0a_row2_col2\" class=\"data row2 col2\" >0.09</td>\n",
       "                        <td id=\"T_8db0a_row2_col3\" class=\"data row2 col3\" >0.05</td>\n",
       "                        <td id=\"T_8db0a_row2_col4\" class=\"data row2 col4\" >0.01</td>\n",
       "                        <td id=\"T_8db0a_row2_col5\" class=\"data row2 col5\" >-3.18</td>\n",
       "            </tr>\n",
       "            <tr>\n",
       "                                <th id=\"T_8db0a_level1_row3\" class=\"row_heading level1 row3\" >err</th>\n",
       "                        <td id=\"T_8db0a_row3_col0\" class=\"data row3 col0\" >0.01</td>\n",
       "                        <td id=\"T_8db0a_row3_col1\" class=\"data row3 col1\" >0.01</td>\n",
       "                        <td id=\"T_8db0a_row3_col2\" class=\"data row3 col2\" >0.01</td>\n",
       "                        <td id=\"T_8db0a_row3_col3\" class=\"data row3 col3\" >0.01</td>\n",
       "                        <td id=\"T_8db0a_row3_col4\" class=\"data row3 col4\" >0.02</td>\n",
       "                        <td id=\"T_8db0a_row3_col5\" class=\"data row3 col5\" >0.24</td>\n",
       "            </tr>\n",
       "            <tr>\n",
       "                        <th id=\"T_8db0a_level0_row4\" class=\"row_heading level0 row4\" rowspan=\"2\">West</th>\n",
       "                        <th id=\"T_8db0a_level1_row4\" class=\"row_heading level1 row4\" >coefficient</th>\n",
       "                        <td id=\"T_8db0a_row4_col0\" class=\"data row4 col0\" >-0.03</td>\n",
       "                        <td id=\"T_8db0a_row4_col1\" class=\"data row4 col1\" >0.01</td>\n",
       "                        <td id=\"T_8db0a_row4_col2\" class=\"data row4 col2\" >0.00</td>\n",
       "                        <td id=\"T_8db0a_row4_col3\" class=\"data row4 col3\" >-0.00</td>\n",
       "                        <td id=\"T_8db0a_row4_col4\" class=\"data row4 col4\" >0.06</td>\n",
       "                        <td id=\"T_8db0a_row4_col5\" class=\"data row4 col5\" >0.40</td>\n",
       "            </tr>\n",
       "            <tr>\n",
       "                                <th id=\"T_8db0a_level1_row5\" class=\"row_heading level1 row5\" >err</th>\n",
       "                        <td id=\"T_8db0a_row5_col0\" class=\"data row5 col0\" >0.01</td>\n",
       "                        <td id=\"T_8db0a_row5_col1\" class=\"data row5 col1\" >0.01</td>\n",
       "                        <td id=\"T_8db0a_row5_col2\" class=\"data row5 col2\" >0.01</td>\n",
       "                        <td id=\"T_8db0a_row5_col3\" class=\"data row5 col3\" >0.01</td>\n",
       "                        <td id=\"T_8db0a_row5_col4\" class=\"data row5 col4\" >0.02</td>\n",
       "                        <td id=\"T_8db0a_row5_col5\" class=\"data row5 col5\" >0.22</td>\n",
       "            </tr>\n",
       "            <tr>\n",
       "                        <th id=\"T_8db0a_level0_row6\" class=\"row_heading level0 row6\" rowspan=\"2\">pctblack</th>\n",
       "                        <th id=\"T_8db0a_level1_row6\" class=\"row_heading level1 row6\" >coefficient</th>\n",
       "                        <td id=\"T_8db0a_row6_col0\" class=\"data row6 col0\" >0.08</td>\n",
       "                        <td id=\"T_8db0a_row6_col1\" class=\"data row6 col1\" >0.04</td>\n",
       "                        <td id=\"T_8db0a_row6_col2\" class=\"data row6 col2\" >0.01</td>\n",
       "                        <td id=\"T_8db0a_row6_col3\" class=\"data row6 col3\" >0.00</td>\n",
       "                        <td id=\"T_8db0a_row6_col4\" class=\"data row6 col4\" >-0.00</td>\n",
       "                        <td id=\"T_8db0a_row6_col5\" class=\"data row6 col5\" >0.67</td>\n",
       "            </tr>\n",
       "            <tr>\n",
       "                                <th id=\"T_8db0a_level1_row7\" class=\"row_heading level1 row7\" >err</th>\n",
       "                        <td id=\"T_8db0a_row7_col0\" class=\"data row7 col0\" >0.00</td>\n",
       "                        <td id=\"T_8db0a_row7_col1\" class=\"data row7 col1\" >0.00</td>\n",
       "                        <td id=\"T_8db0a_row7_col2\" class=\"data row7 col2\" >0.00</td>\n",
       "                        <td id=\"T_8db0a_row7_col3\" class=\"data row7 col3\" >0.00</td>\n",
       "                        <td id=\"T_8db0a_row7_col4\" class=\"data row7 col4\" >0.01</td>\n",
       "                        <td id=\"T_8db0a_row7_col5\" class=\"data row7 col5\" >0.09</td>\n",
       "            </tr>\n",
       "            <tr>\n",
       "                        <th id=\"T_8db0a_level0_row8\" class=\"row_heading level0 row8\" rowspan=\"2\">pcthighschl</th>\n",
       "                        <th id=\"T_8db0a_level1_row8\" class=\"row_heading level1 row8\" >coefficient</th>\n",
       "                        <td id=\"T_8db0a_row8_col0\" class=\"data row8 col0\" >-0.04</td>\n",
       "                        <td id=\"T_8db0a_row8_col1\" class=\"data row8 col1\" >-0.02</td>\n",
       "                        <td id=\"T_8db0a_row8_col2\" class=\"data row8 col2\" >-0.01</td>\n",
       "                        <td id=\"T_8db0a_row8_col3\" class=\"data row8 col3\" >-0.00</td>\n",
       "                        <td id=\"T_8db0a_row8_col4\" class=\"data row8 col4\" >0.00</td>\n",
       "                        <td id=\"T_8db0a_row8_col5\" class=\"data row8 col5\" >0.12</td>\n",
       "            </tr>\n",
       "            <tr>\n",
       "                                <th id=\"T_8db0a_level1_row9\" class=\"row_heading level1 row9\" >err</th>\n",
       "                        <td id=\"T_8db0a_row9_col0\" class=\"data row9 col0\" >0.00</td>\n",
       "                        <td id=\"T_8db0a_row9_col1\" class=\"data row9 col1\" >0.00</td>\n",
       "                        <td id=\"T_8db0a_row9_col2\" class=\"data row9 col2\" >0.00</td>\n",
       "                        <td id=\"T_8db0a_row9_col3\" class=\"data row9 col3\" >0.00</td>\n",
       "                        <td id=\"T_8db0a_row9_col4\" class=\"data row9 col4\" >0.01</td>\n",
       "                        <td id=\"T_8db0a_row9_col5\" class=\"data row9 col5\" >0.05</td>\n",
       "            </tr>\n",
       "            <tr>\n",
       "                        <th id=\"T_8db0a_level0_row10\" class=\"row_heading level0 row10\" rowspan=\"2\">pcturban</th>\n",
       "                        <th id=\"T_8db0a_level1_row10\" class=\"row_heading level1 row10\" >coefficient</th>\n",
       "                        <td id=\"T_8db0a_row10_col0\" class=\"data row10 col0\" >0.07</td>\n",
       "                        <td id=\"T_8db0a_row10_col1\" class=\"data row10 col1\" >0.07</td>\n",
       "                        <td id=\"T_8db0a_row10_col2\" class=\"data row10 col2\" >0.05</td>\n",
       "                        <td id=\"T_8db0a_row10_col3\" class=\"data row10 col3\" >0.05</td>\n",
       "                        <td id=\"T_8db0a_row10_col4\" class=\"data row10 col4\" >0.06</td>\n",
       "                        <td id=\"T_8db0a_row10_col5\" class=\"data row10 col5\" >1.88</td>\n",
       "            </tr>\n",
       "            <tr>\n",
       "                                <th id=\"T_8db0a_level1_row11\" class=\"row_heading level1 row11\" >err</th>\n",
       "                        <td id=\"T_8db0a_row11_col0\" class=\"data row11 col0\" >0.00</td>\n",
       "                        <td id=\"T_8db0a_row11_col1\" class=\"data row11 col1\" >0.01</td>\n",
       "                        <td id=\"T_8db0a_row11_col2\" class=\"data row11 col2\" >0.01</td>\n",
       "                        <td id=\"T_8db0a_row11_col3\" class=\"data row11 col3\" >0.01</td>\n",
       "                        <td id=\"T_8db0a_row11_col4\" class=\"data row11 col4\" >0.02</td>\n",
       "                        <td id=\"T_8db0a_row11_col5\" class=\"data row11 col5\" >0.16</td>\n",
       "            </tr>\n",
       "            <tr>\n",
       "                        <th id=\"T_8db0a_level0_row12\" class=\"row_heading level0 row12\" rowspan=\"2\">realincome</th>\n",
       "                        <th id=\"T_8db0a_level1_row12\" class=\"row_heading level1 row12\" >coefficient</th>\n",
       "                        <td id=\"T_8db0a_row12_col0\" class=\"data row12 col0\" >-2588.50</td>\n",
       "                        <td id=\"T_8db0a_row12_col1\" class=\"data row12 col1\" >-1238.05</td>\n",
       "                        <td id=\"T_8db0a_row12_col2\" class=\"data row12 col2\" >384.58</td>\n",
       "                        <td id=\"T_8db0a_row12_col3\" class=\"data row12 col3\" >754.65</td>\n",
       "                        <td id=\"T_8db0a_row12_col4\" class=\"data row12 col4\" >841.99</td>\n",
       "                        <td id=\"T_8db0a_row12_col5\" class=\"data row12 col5\" >38534.64</td>\n",
       "            </tr>\n",
       "            <tr>\n",
       "                                <th id=\"T_8db0a_level1_row13\" class=\"row_heading level1 row13\" >err</th>\n",
       "                        <td id=\"T_8db0a_row13_col0\" class=\"data row13 col0\" >144.53</td>\n",
       "                        <td id=\"T_8db0a_row13_col1\" class=\"data row13 col1\" >160.01</td>\n",
       "                        <td id=\"T_8db0a_row13_col2\" class=\"data row13 col2\" >251.26</td>\n",
       "                        <td id=\"T_8db0a_row13_col3\" class=\"data row13 col3\" >369.33</td>\n",
       "                        <td id=\"T_8db0a_row13_col4\" class=\"data row13 col4\" >596.37</td>\n",
       "                        <td id=\"T_8db0a_row13_col5\" class=\"data row13 col5\" >5407.22</td>\n",
       "            </tr>\n",
       "    </tbody></table>"
      ],
      "text/plain": [
       "<pandas.io.formats.style.Styler at 0x7fee347efd60>"
      ]
     },
     "execution_count": 12,
     "metadata": {},
     "output_type": "execute_result"
    }
   ],
   "source": [
    "pd.set_option('display.float_format','{:.0f}'.format)\n",
    "coef, err = table_char(data)\n",
    "coef['type'] = ['coefficient']*len(coef)\n",
    "err['type'] = ['err']*len(err)\n",
    "table_2 = coef.append(err)\n",
    "table_2 = table_2.groupby([table_2.index, 'type']).mean()\n",
    "table_2.columns = ['All', '+/- 25', '+/- 10', '+/- 5','+/- 2','Polynomial']\n",
    "table_2.style.set_precision(2)"
   ]
  },
  {
   "cell_type": "markdown",
   "metadata": {},
   "source": [
    "#### Figure 5 - Specification Test: Similarity of Historical Voting Patterns between Bare Democrat and Republican Districts"
   ]
  },
  {
   "cell_type": "code",
   "execution_count": 13,
   "metadata": {},
   "outputs": [
    {
     "data": {
      "image/png": "[encoded data removed]",
      "text/plain": [
       "<Figure size 432x288 with 1 Axes>"
      ]
     },
     "metadata": {
      "needs_background": "light"
     },
     "output_type": "display_data"
    }
   ],
   "source": [
    "lagada_score(df)"
   ]
  },
  {
   "cell_type": "markdown",
   "metadata": {},
   "source": [
    "### 5.2.3. Sensitivity to Alternative Measures of Voting Records"
   ]
  },
  {
   "cell_type": "markdown",
   "metadata": {},
   "source": [
    "Lee, Moretti and Butler used the ADA voting score for all estimations. They try to find an answer to the question of whether there would be any change in results if other voting scores are used. \n",
    "\n",
    "In Table 4, two different voting scores are analyzed to understand the answer of this question. The results based on DW-Nominate scores that created by McCarty, Poole and Rosenthal are illustrated in Table 4a. In table 4b, the results for the percent of the roll-call votes like Democrat leadership."
   ]
  },
  {
   "cell_type": "markdown",
   "metadata": {},
   "source": [
    "If DW-Nominate is used instead of ADA score, $\\gamma$ is $-0.26$. The elect component, ( $π_1[P^{D}_{t+1} - P^{R}_{t+1}]$ ), is computed as $-0.27$ which is extremely close with $\\gamma$. These estimations are negative due to the fact that DW-Nominate measures the voting scores more conservative. \n",
    "If \"percent voted like Democrat leadership\" is used, $\\gamma$ is computed as $0.14$. It is almost same with the elect component,( $π_1[P^{D}_{t+1} - P^{R}_{t+1}]$ ), which is $0.14$. Also, I show the graphical illustration of these results in Figure 6a and Figure 6b.\n",
    "\n",
    "These results are compatible with the results in Table 2. Therefore, we can conclude that these results are independent from which index is chosen for voting score. With these alternative voting score measures, we can again argue that elect component dominates affect component.\n",
    "\n"
   ]
  },
  {
   "cell_type": "code",
   "execution_count": 14,
   "metadata": {},
   "outputs": [],
   "source": [
    "data2 = pread.read_dta(\"data/enricoall4.dta\")[0]"
   ]
  },
  {
   "cell_type": "markdown",
   "metadata": {},
   "source": [
    "#### Table 4a - Results Based on Nominate Scores - Close Election Sample"
   ]
  },
  {
   "cell_type": "code",
   "execution_count": 15,
   "metadata": {},
   "outputs": [
    {
     "data": {
      "text/html": [
       "<table style=\"text-align:center\"><tr><td colspan=\"4\" style=\"border-bottom: 1px solid black\"></td></tr><tr><td style=\"text-align:left\"></td><tr><td></td><td colspan=\"1\">$\\gamma$</td><td colspan=\"1\">$π_1$</td><td colspan=\"1\">($P^{D}_{t+1} - P^{R}_{t+1}$)</td></tr><tr><td colspan=\"4\" style=\"border-bottom: 1px solid black\"></td></tr><tr><td style=\"text-align:left\">Intercept</td><td>0.14<sup>***</sup></td><td>0.29<sup>***</sup></td><td>0.24<sup>***</sup></td></tr><tr><td style=\"text-align:left\"></td><td>(0.01)</td><td>(0.00)</td><td>(0.01)</td></tr><tr><td style=\"text-align:left\">democrat</td><td></td><td>-0.59<sup>***</sup></td><td></td></tr><tr><td style=\"text-align:left\"></td><td></td><td>(0.01)</td><td></td></tr><tr><td style=\"text-align:left\">lagdemocrat</td><td>-0.26<sup>***</sup></td><td></td><td>0.47<sup>***</sup></td></tr><tr><td style=\"text-align:left\"></td><td>(0.01)</td><td></td><td>(0.01)</td></tr><td colspan=\"4\" style=\"border-bottom: 1px solid black\"></td></tr><tr><td style=\"text-align: left\">Observations</td><td>3,767</td><td>3,767</td><td>3,896</td></tr><tr><td style=\"text-align: left\">R<sup>2</sup></td><td>0.14</td><td>0.69</td><td>0.22</td></tr><tr><td style=\"text-align: left\">Adjusted R<sup>2</sup></td><td>0.14</td><td>0.69</td><td>0.22</td></tr><tr><td style=\"text-align: left\">Residual Std. Error</td><td>0.33 (df=3765)</td><td>0.20 (df=3765)</td><td>0.44 (df=3894)</td></tr><tr><td style=\"text-align: left\">F Statistic</td><td>595.11<sup>***</sup> (df=1; 3765)</td><td>8197.56<sup>***</sup> (df=1; 3765)</td><td>1103.76<sup>***</sup> (df=1; 3894)</td></tr><tr><td colspan=\"4\" style=\"border-bottom: 1px solid black\"></td></tr><tr><td style=\"text-align: left\">Note:</td>\n",
       " <td colspan=\"3\" style=\"text-align: right\">\n",
       "  <sup>*</sup>p&lt;0.1;\n",
       "  <sup>**</sup>p&lt;0.05;\n",
       "  <sup>***</sup>p&lt;0.01\n",
       " </td></tr></table>"
      ],
      "text/plain": [
       "<stargazer.stargazer.Stargazer at 0x7fee35bd17f0>"
      ]
     },
     "execution_count": 15,
     "metadata": {},
     "output_type": "execute_result"
    }
   ],
   "source": [
    "table_vscore(data2, 'dwnom1', bandwidth = True)"
   ]
  },
  {
   "cell_type": "markdown",
   "metadata": {},
   "source": [
    "#### Table 4b - Results Based on Percent Voted Like Democrat Leadership - Close Election Sample"
   ]
  },
  {
   "cell_type": "code",
   "execution_count": 16,
   "metadata": {
    "scrolled": false
   },
   "outputs": [
    {
     "data": {
      "text/html": [
       "<table style=\"text-align:center\"><tr><td colspan=\"4\" style=\"border-bottom: 1px solid black\"></td></tr><tr><td style=\"text-align:left\"></td><tr><td></td><td colspan=\"1\">$\\gamma$</td><td colspan=\"1\">$π_1$</td><td colspan=\"1\">($P^{D}_{t+1} - P^{R}_{t+1}$)</td></tr><tr><td colspan=\"4\" style=\"border-bottom: 1px solid black\"></td></tr><tr><td style=\"text-align:left\">Intercept</td><td>0.62<sup>***</sup></td><td>0.54<sup>***</sup></td><td>0.24<sup>***</sup></td></tr><tr><td style=\"text-align:left\"></td><td>(0.00)</td><td>(0.00)</td><td>(0.01)</td></tr><tr><td style=\"text-align:left\">democrat</td><td></td><td>0.30<sup>***</sup></td><td></td></tr><tr><td style=\"text-align:left\"></td><td></td><td>(0.00)</td><td></td></tr><tr><td style=\"text-align:left\">lagdemocrat</td><td>0.14<sup>***</sup></td><td></td><td>0.47<sup>***</sup></td></tr><tr><td style=\"text-align:left\"></td><td>(0.01)</td><td></td><td>(0.01)</td></tr><td colspan=\"4\" style=\"border-bottom: 1px solid black\"></td></tr><tr><td style=\"text-align: left\">Observations</td><td>3,865</td><td>3,865</td><td>3,896</td></tr><tr><td style=\"text-align: left\">R<sup>2</sup></td><td>0.13</td><td>0.61</td><td>0.22</td></tr><tr><td style=\"text-align: left\">Adjusted R<sup>2</sup></td><td>0.13</td><td>0.61</td><td>0.22</td></tr><tr><td style=\"text-align: left\">Residual Std. Error</td><td>0.18 (df=3863)</td><td>0.12 (df=3863)</td><td>0.44 (df=3894)</td></tr><tr><td style=\"text-align: left\">F Statistic</td><td>568.53<sup>***</sup> (df=1; 3863)</td><td>5985.07<sup>***</sup> (df=1; 3863)</td><td>1103.76<sup>***</sup> (df=1; 3894)</td></tr><tr><td colspan=\"4\" style=\"border-bottom: 1px solid black\"></td></tr><tr><td style=\"text-align: left\">Note:</td>\n",
       " <td colspan=\"3\" style=\"text-align: right\">\n",
       "  <sup>*</sup>p&lt;0.1;\n",
       "  <sup>**</sup>p&lt;0.05;\n",
       "  <sup>***</sup>p&lt;0.01\n",
       " </td></tr></table>"
      ],
      "text/plain": [
       "<stargazer.stargazer.Stargazer at 0x7fee2217cc10>"
      ]
     },
     "execution_count": 16,
     "metadata": {},
     "output_type": "execute_result"
    }
   ],
   "source": [
    "table_vscore(data2, 'eq_Dlead', bandwidth = True)"
   ]
  },
  {
   "cell_type": "markdown",
   "metadata": {},
   "source": [
    "#### Figure 6a - Nominate Scores, by Democrat Vote Share"
   ]
  },
  {
   "cell_type": "code",
   "execution_count": 17,
   "metadata": {},
   "outputs": [
    {
     "data": {
      "image/png": "[encoded data removed]",
      "text/plain": [
       "<Figure size 432x288 with 1 Axes>"
      ]
     },
     "metadata": {
      "needs_background": "light"
     },
     "output_type": "display_data"
    }
   ],
   "source": [
    "dwscore(data2, lag=False)"
   ]
  },
  {
   "cell_type": "markdown",
   "metadata": {},
   "source": [
    "#### Figure 6b - Percent Voted with Democrat Leader, by Democrat Vote Share"
   ]
  },
  {
   "cell_type": "code",
   "execution_count": 18,
   "metadata": {
    "scrolled": true
   },
   "outputs": [
    {
     "data": {
      "image/png": "[encoded data removed]",
      "text/plain": [
       "<Figure size 432x288 with 1 Axes>"
      ]
     },
     "metadata": {
      "needs_background": "light"
     },
     "output_type": "display_data"
    }
   ],
   "source": [
    "Dlead(data2, lag=False)"
   ]
  },
  {
   "cell_type": "markdown",
   "metadata": {},
   "source": [
    "### 5.2.4. Heterogeneity"
   ]
  },
  {
   "cell_type": "markdown",
   "metadata": {},
   "source": [
    "The bliss points of candidates can vary over time and across districts. This called as heterogeneity. We assume that candidates' bliss points do not change across districts and over time. However; this assumption can be refuted if there are any differences in the gap policy promises between D and R across districts or over time. \n",
    "\n",
    "The results for heterogeneity over time can be found at Table 5. The estimated discontinuity is smaller in 1970s and larger in 1990s as seen in Column 1. Column 3 shows that the advantage of winning increases over time. It is important to highlight that the difference between efect component and affect component are stable over time. "
   ]
  },
  {
   "cell_type": "markdown",
   "metadata": {},
   "source": [
    "#### Table 5 - Results Based on ADA Scores, by Decade - Close Election Sample"
   ]
  },
  {
   "cell_type": "code",
   "execution_count": 19,
   "metadata": {},
   "outputs": [
    {
     "data": {
      "text/html": [
       "<div>\n",
       "<style scoped>\n",
       "    .dataframe tbody tr th:only-of-type {\n",
       "        vertical-align: middle;\n",
       "    }\n",
       "\n",
       "    .dataframe tbody tr th {\n",
       "        vertical-align: top;\n",
       "    }\n",
       "\n",
       "    .dataframe thead th {\n",
       "        text-align: right;\n",
       "    }\n",
       "</style>\n",
       "<table border=\"1\" class=\"dataframe\">\n",
       "  <thead>\n",
       "    <tr style=\"text-align: right;\">\n",
       "      <th></th>\n",
       "      <th></th>\n",
       "      <th>$ADA_{t+1}$</th>\n",
       "      <th>$ADA_t$</th>\n",
       "      <th>$DEM_{t+1}$</th>\n",
       "    </tr>\n",
       "    <tr>\n",
       "      <th></th>\n",
       "      <th></th>\n",
       "      <th></th>\n",
       "      <th></th>\n",
       "      <th></th>\n",
       "    </tr>\n",
       "  </thead>\n",
       "  <tbody>\n",
       "    <tr>\n",
       "      <th rowspan=\"2\" valign=\"top\">1946-1958</th>\n",
       "      <th></th>\n",
       "      <td>14.58</td>\n",
       "      <td>41.91</td>\n",
       "      <td>0.42</td>\n",
       "    </tr>\n",
       "    <tr>\n",
       "      <th></th>\n",
       "      <td>(3.19)</td>\n",
       "      <td>(2.29)</td>\n",
       "      <td>(0.05)</td>\n",
       "    </tr>\n",
       "    <tr>\n",
       "      <th rowspan=\"2\" valign=\"top\">1960-1968</th>\n",
       "      <th></th>\n",
       "      <td>22.79</td>\n",
       "      <td>49.7</td>\n",
       "      <td>0.47</td>\n",
       "    </tr>\n",
       "    <tr>\n",
       "      <th></th>\n",
       "      <td>(3.73)</td>\n",
       "      <td>(2.47)</td>\n",
       "      <td>(0.05)</td>\n",
       "    </tr>\n",
       "    <tr>\n",
       "      <th rowspan=\"2\" valign=\"top\">1970-1978</th>\n",
       "      <th></th>\n",
       "      <td>11.55</td>\n",
       "      <td>46.63</td>\n",
       "      <td>0.41</td>\n",
       "    </tr>\n",
       "    <tr>\n",
       "      <th></th>\n",
       "      <td>(4.72)</td>\n",
       "      <td>(3.36)</td>\n",
       "      <td>(0.07)</td>\n",
       "    </tr>\n",
       "    <tr>\n",
       "      <th rowspan=\"2\" valign=\"top\">1980-1996</th>\n",
       "      <th></th>\n",
       "      <td>44.86</td>\n",
       "      <td>54.9</td>\n",
       "      <td>0.66</td>\n",
       "    </tr>\n",
       "    <tr>\n",
       "      <th></th>\n",
       "      <td>(3.52)</td>\n",
       "      <td>(2.71)</td>\n",
       "      <td>(0.05)</td>\n",
       "    </tr>\n",
       "  </tbody>\n",
       "</table>\n",
       "</div>"
      ],
      "text/plain": [
       "            $ADA_{t+1}$ $ADA_t$ $DEM_{t+1}$\n",
       "                                           \n",
       "1946-1958         14.58   41.91        0.42\n",
       "                 (3.19)  (2.29)      (0.05)\n",
       "1960-1968         22.79    49.7        0.47\n",
       "                 (3.73)  (2.47)      (0.05)\n",
       "1970-1978         11.55   46.63        0.41\n",
       "                 (4.72)  (3.36)      (0.07)\n",
       "1980-1996         44.86    54.9        0.66\n",
       "                 (3.52)  (2.71)      (0.05)"
      ]
     },
     "execution_count": 19,
     "metadata": {},
     "output_type": "execute_result"
    }
   ],
   "source": [
    "year_list = [[1946, 1958], [1960, 1968], [1970, 1978], [1980, 1996]]\n",
    "all_year = [df.year.min(), df.year.max()]\n",
    "table_multiyears(data, years = year_list)"
   ]
  },
  {
   "cell_type": "markdown",
   "metadata": {},
   "source": [
    "---\n",
    "# 6. Extensions\n",
    "---\n"
   ]
  },
  {
   "cell_type": "markdown",
   "metadata": {},
   "source": [
    "## 6.1.  Check for the Validity of the Design"
   ]
  },
  {
   "cell_type": "markdown",
   "metadata": {},
   "source": [
    "It is important to check the validity of the RD design by using several approaches. Therefore, we can understand that the possibility of manipulations on running variable. There are 3 main techniques to check validity of the design. Lee et al. conduct two of them : falsification test based on previous ADA scores and continiuty covariates. The third way is to use density test, which I investigate the distribution of Democrat Vote share. McCrary (2008) argues that a jump in the density or distribution means that the running variable manipulable which invalidates the design.\n",
    "\n",
    "In order to prove the validity of the design, there should be no significant change in the density of the frequency at the threshold. As it can be seen in Figure 7, there was no manipulation on Democrat vote share.\n"
   ]
  },
  {
   "cell_type": "markdown",
   "metadata": {},
   "source": [
    "#### Figure 7 - Distribution of Democrat Vote Share"
   ]
  },
  {
   "cell_type": "code",
   "execution_count": 20,
   "metadata": {},
   "outputs": [
    {
     "data": {
      "image/png": "[encoded data removed]",
      "text/plain": [
       "<Figure size 432x288 with 1 Axes>"
      ]
     },
     "metadata": {
      "needs_background": "light"
     },
     "output_type": "display_data"
    }
   ],
   "source": [
    "plot_hist(data, 'demvoteshare', bins = 20)"
   ]
  },
  {
   "cell_type": "markdown",
   "metadata": {},
   "source": [
    "## 6.2. Bandwidth Sensitivity and Polynomial Models"
   ]
  },
  {
   "cell_type": "markdown",
   "metadata": {},
   "source": [
    "Lee et. al use parametric methods in their research although non-parametric methods are usually preferred in the literature. I extend my analysis in order to ensure that results are non-sensitive to the specification choices. Table 6 represents the estimations for $\\gamma$ using different bandwidth size and polynomial of orders. Increase in the bandwidth size due to decrease the bias, causes necessity of higher polynomial of orders. The scope of bias decreases with smaller bandwidth size. Therefore, higher polynomial of orders causes overfitting with smaller bandwidth size. Table 7 represents the same analysis for $π_1$. Columns and rows represent respectively bandwidth and polynomial orders."
   ]
  },
  {
   "cell_type": "markdown",
   "metadata": {},
   "source": [
    "#### Table 6 - Total Effect Estimation ($\\gamma$)  by Different Bandwidth and Polynomial Order"
   ]
  },
  {
   "cell_type": "code",
   "execution_count": 21,
   "metadata": {},
   "outputs": [
    {
     "data": {
      "text/html": [
       "<div>\n",
       "<style scoped>\n",
       "    .dataframe tbody tr th:only-of-type {\n",
       "        vertical-align: middle;\n",
       "    }\n",
       "\n",
       "    .dataframe tbody tr th {\n",
       "        vertical-align: top;\n",
       "    }\n",
       "\n",
       "    .dataframe thead th {\n",
       "        text-align: right;\n",
       "    }\n",
       "</style>\n",
       "<table border=\"1\" class=\"dataframe\">\n",
       "  <thead>\n",
       "    <tr style=\"text-align: right;\">\n",
       "      <th></th>\n",
       "      <th></th>\n",
       "      <th>0</th>\n",
       "      <th>0.375</th>\n",
       "      <th>0.25</th>\n",
       "      <th>0.2</th>\n",
       "      <th>0.15</th>\n",
       "      <th>0.1</th>\n",
       "      <th>0.05</th>\n",
       "      <th>0.02</th>\n",
       "    </tr>\n",
       "  </thead>\n",
       "  <tbody>\n",
       "    <tr>\n",
       "      <th rowspan=\"2\" valign=\"top\">one</th>\n",
       "      <th></th>\n",
       "      <td>31.47</td>\n",
       "      <td>37.07</td>\n",
       "      <td>36.16</td>\n",
       "      <td>34.9</td>\n",
       "      <td>33.31</td>\n",
       "      <td>30.8</td>\n",
       "      <td>24.8</td>\n",
       "      <td>21.41</td>\n",
       "    </tr>\n",
       "    <tr>\n",
       "      <th></th>\n",
       "      <td>(0.44)</td>\n",
       "      <td>(0.44)</td>\n",
       "      <td>(0.47)</td>\n",
       "      <td>(0.51)</td>\n",
       "      <td>(0.58)</td>\n",
       "      <td>(0.72)</td>\n",
       "      <td>(1.03)</td>\n",
       "      <td>(1.72)</td>\n",
       "    </tr>\n",
       "    <tr>\n",
       "      <th rowspan=\"2\" valign=\"top\">two</th>\n",
       "      <th></th>\n",
       "      <td>15.74</td>\n",
       "      <td>18.53</td>\n",
       "      <td>18.08</td>\n",
       "      <td>17.45</td>\n",
       "      <td>16.66</td>\n",
       "      <td>15.4</td>\n",
       "      <td>12.4</td>\n",
       "      <td>10.71</td>\n",
       "    </tr>\n",
       "    <tr>\n",
       "      <th></th>\n",
       "      <td>(0.22)</td>\n",
       "      <td>(0.22)</td>\n",
       "      <td>(0.23)</td>\n",
       "      <td>(0.25)</td>\n",
       "      <td>(0.29)</td>\n",
       "      <td>(0.36)</td>\n",
       "      <td>(0.52)</td>\n",
       "      <td>(0.86)</td>\n",
       "    </tr>\n",
       "    <tr>\n",
       "      <th rowspan=\"2\" valign=\"top\">three</th>\n",
       "      <th></th>\n",
       "      <td>10.49</td>\n",
       "      <td>12.36</td>\n",
       "      <td>12.05</td>\n",
       "      <td>11.63</td>\n",
       "      <td>11.1</td>\n",
       "      <td>10.27</td>\n",
       "      <td>8.27</td>\n",
       "      <td>7.14</td>\n",
       "    </tr>\n",
       "    <tr>\n",
       "      <th></th>\n",
       "      <td>(0.15)</td>\n",
       "      <td>(0.15)</td>\n",
       "      <td>(0.16)</td>\n",
       "      <td>(0.17)</td>\n",
       "      <td>(0.19)</td>\n",
       "      <td>(0.24)</td>\n",
       "      <td>(0.34)</td>\n",
       "      <td>(0.57)</td>\n",
       "    </tr>\n",
       "    <tr>\n",
       "      <th rowspan=\"2\" valign=\"top\">four</th>\n",
       "      <th></th>\n",
       "      <td>7.87</td>\n",
       "      <td>9.27</td>\n",
       "      <td>9.04</td>\n",
       "      <td>8.73</td>\n",
       "      <td>8.33</td>\n",
       "      <td>7.7</td>\n",
       "      <td>6.2</td>\n",
       "      <td>5.35</td>\n",
       "    </tr>\n",
       "    <tr>\n",
       "      <th></th>\n",
       "      <td>(0.11)</td>\n",
       "      <td>(0.11)</td>\n",
       "      <td>(0.12)</td>\n",
       "      <td>(0.13)</td>\n",
       "      <td>(0.14)</td>\n",
       "      <td>(0.18)</td>\n",
       "      <td>(0.26)</td>\n",
       "      <td>(0.43)</td>\n",
       "    </tr>\n",
       "  </tbody>\n",
       "</table>\n",
       "</div>"
      ],
      "text/plain": [
       "              0   0.375    0.25     0.2    0.15     0.1    0.05    0.02\n",
       "one       31.47   37.07   36.16    34.9   33.31    30.8    24.8   21.41\n",
       "         (0.44)  (0.44)  (0.47)  (0.51)  (0.58)  (0.72)  (1.03)  (1.72)\n",
       "two       15.74   18.53   18.08   17.45   16.66    15.4    12.4   10.71\n",
       "         (0.22)  (0.22)  (0.23)  (0.25)  (0.29)  (0.36)  (0.52)  (0.86)\n",
       "three     10.49   12.36   12.05   11.63    11.1   10.27    8.27    7.14\n",
       "         (0.15)  (0.15)  (0.16)  (0.17)  (0.19)  (0.24)  (0.34)  (0.57)\n",
       "four       7.87    9.27    9.04    8.73    8.33     7.7     6.2    5.35\n",
       "         (0.11)  (0.11)  (0.12)  (0.13)  (0.14)  (0.18)  (0.26)  (0.43)"
      ]
     },
     "execution_count": 21,
     "metadata": {},
     "output_type": "execute_result"
    }
   ],
   "source": [
    "bw_list = [0, 0.375, 0.25, 0.2, 0.15, 0.1, 0.05, 0.02]\n",
    "table_df = table_poly_and_bw(df,\"score\",\"lagdemocrat\",1,bw_list)\n",
    "for ord in range(2,5):\n",
    "    a = table_poly_and_bw(df,\"score\",\"lagdemocrat\",ord,bw_list)\n",
    "    table_df = table_df.append(a)\n",
    "table_df"
   ]
  },
  {
   "cell_type": "markdown",
   "metadata": {},
   "source": [
    "#### Table 7 - Party Affiliation Effect Estimation ($π_1$)  by Different Bandwidth and Polynomial Order"
   ]
  },
  {
   "cell_type": "code",
   "execution_count": 22,
   "metadata": {},
   "outputs": [
    {
     "data": {
      "text/html": [
       "<div>\n",
       "<style scoped>\n",
       "    .dataframe tbody tr th:only-of-type {\n",
       "        vertical-align: middle;\n",
       "    }\n",
       "\n",
       "    .dataframe tbody tr th {\n",
       "        vertical-align: top;\n",
       "    }\n",
       "\n",
       "    .dataframe thead th {\n",
       "        text-align: right;\n",
       "    }\n",
       "</style>\n",
       "<table border=\"1\" class=\"dataframe\">\n",
       "  <thead>\n",
       "    <tr style=\"text-align: right;\">\n",
       "      <th></th>\n",
       "      <th></th>\n",
       "      <th>0</th>\n",
       "      <th>0.375</th>\n",
       "      <th>0.25</th>\n",
       "      <th>0.2</th>\n",
       "      <th>0.15</th>\n",
       "      <th>0.1</th>\n",
       "      <th>0.05</th>\n",
       "      <th>0.02</th>\n",
       "    </tr>\n",
       "  </thead>\n",
       "  <tbody>\n",
       "    <tr>\n",
       "      <th rowspan=\"2\" valign=\"top\">one</th>\n",
       "      <th></th>\n",
       "      <td>42.59</td>\n",
       "      <td>48.82</td>\n",
       "      <td>48.91</td>\n",
       "      <td>49.04</td>\n",
       "      <td>49.37</td>\n",
       "      <td>49.55</td>\n",
       "      <td>49.25</td>\n",
       "      <td>48.74</td>\n",
       "    </tr>\n",
       "    <tr>\n",
       "      <th></th>\n",
       "      <td>(0.37)</td>\n",
       "      <td>(0.36)</td>\n",
       "      <td>(0.36)</td>\n",
       "      <td>(0.39)</td>\n",
       "      <td>(0.43)</td>\n",
       "      <td>(0.51)</td>\n",
       "      <td>(0.71)</td>\n",
       "      <td>(1.11)</td>\n",
       "    </tr>\n",
       "    <tr>\n",
       "      <th rowspan=\"2\" valign=\"top\">two</th>\n",
       "      <th></th>\n",
       "      <td>21.29</td>\n",
       "      <td>24.41</td>\n",
       "      <td>24.45</td>\n",
       "      <td>24.52</td>\n",
       "      <td>24.68</td>\n",
       "      <td>24.78</td>\n",
       "      <td>24.63</td>\n",
       "      <td>24.37</td>\n",
       "    </tr>\n",
       "    <tr>\n",
       "      <th></th>\n",
       "      <td>(0.19)</td>\n",
       "      <td>(0.18)</td>\n",
       "      <td>(0.18)</td>\n",
       "      <td>(0.19)</td>\n",
       "      <td>(0.22)</td>\n",
       "      <td>(0.26)</td>\n",
       "      <td>(0.36)</td>\n",
       "      <td>(0.56)</td>\n",
       "    </tr>\n",
       "    <tr>\n",
       "      <th rowspan=\"2\" valign=\"top\">three</th>\n",
       "      <th></th>\n",
       "      <td>14.2</td>\n",
       "      <td>16.27</td>\n",
       "      <td>16.3</td>\n",
       "      <td>16.35</td>\n",
       "      <td>16.46</td>\n",
       "      <td>16.52</td>\n",
       "      <td>16.42</td>\n",
       "      <td>16.25</td>\n",
       "    </tr>\n",
       "    <tr>\n",
       "      <th></th>\n",
       "      <td>(0.12)</td>\n",
       "      <td>(0.12)</td>\n",
       "      <td>(0.12)</td>\n",
       "      <td>(0.13)</td>\n",
       "      <td>(0.14)</td>\n",
       "      <td>(0.17)</td>\n",
       "      <td>(0.24)</td>\n",
       "      <td>(0.37)</td>\n",
       "    </tr>\n",
       "    <tr>\n",
       "      <th rowspan=\"2\" valign=\"top\">four</th>\n",
       "      <th></th>\n",
       "      <td>10.65</td>\n",
       "      <td>12.2</td>\n",
       "      <td>12.23</td>\n",
       "      <td>12.26</td>\n",
       "      <td>12.34</td>\n",
       "      <td>12.39</td>\n",
       "      <td>12.31</td>\n",
       "      <td>12.18</td>\n",
       "    </tr>\n",
       "    <tr>\n",
       "      <th></th>\n",
       "      <td>(0.09)</td>\n",
       "      <td>(0.09)</td>\n",
       "      <td>(0.09)</td>\n",
       "      <td>(0.1)</td>\n",
       "      <td>(0.11)</td>\n",
       "      <td>(0.13)</td>\n",
       "      <td>(0.18)</td>\n",
       "      <td>(0.28)</td>\n",
       "    </tr>\n",
       "  </tbody>\n",
       "</table>\n",
       "</div>"
      ],
      "text/plain": [
       "              0   0.375    0.25     0.2    0.15     0.1    0.05    0.02\n",
       "one       42.59   48.82   48.91   49.04   49.37   49.55   49.25   48.74\n",
       "         (0.37)  (0.36)  (0.36)  (0.39)  (0.43)  (0.51)  (0.71)  (1.11)\n",
       "two       21.29   24.41   24.45   24.52   24.68   24.78   24.63   24.37\n",
       "         (0.19)  (0.18)  (0.18)  (0.19)  (0.22)  (0.26)  (0.36)  (0.56)\n",
       "three      14.2   16.27    16.3   16.35   16.46   16.52   16.42   16.25\n",
       "         (0.12)  (0.12)  (0.12)  (0.13)  (0.14)  (0.17)  (0.24)  (0.37)\n",
       "four      10.65    12.2   12.23   12.26   12.34   12.39   12.31   12.18\n",
       "         (0.09)  (0.09)  (0.09)   (0.1)  (0.11)  (0.13)  (0.18)  (0.28)"
      ]
     },
     "execution_count": 22,
     "metadata": {},
     "output_type": "execute_result"
    }
   ],
   "source": [
    "table_df = table_poly_and_bw(df,\"score\",\"democrat\",1,bw_list)\n",
    "for ord in range(2,5):\n",
    "    a = table_poly_and_bw(df,\"score\",\"democrat\",ord,bw_list)\n",
    "    table_df = table_df.append(a)\n",
    "table_df"
   ]
  },
  {
   "cell_type": "markdown",
   "metadata": {},
   "source": [
    "---\n",
    "# 7. Conclusion\n",
    "---\n",
    "\n"
   ]
  },
  {
   "cell_type": "markdown",
   "metadata": {},
   "source": [
    "In conclusion, the paper of Lee, Moretti an Butler (2004) is replicated in this paper. They find that the candidates do not shift their policy promises to the median voter due to incumbency effect. This supports the view of full policy divergence. They argued that voters merely elect policies rather than affect policies. The findings in this replication project are compatible with the results in original paper. Additionaly, I discussed the identification strategy of the paper and analyzed the results with using different bandwidth size and order polynomial. The results are same with different approaches. \n",
    "\n",
    "The finding about full policy divergence do not represent overall degree of representativeness which can be defined as the degree of represented policies of supporters by politician. Neither Lee et al. nor I cannot find a suitable solution to analyze the most preferred policy choice of median voters.  These results can be represent the representativeness of median voter within the party. Instead of this, we try to analyze the deviations on candidates' bliss points due to competition.\n",
    "\n",
    "Full policy divergence based on very strong assumptions and definitions that candidates do not change their policy promises due to exogenous shock in vote shares. The analysis conducted in this paper is compatible with this view. At least, we can conclude that candidates do not behave credible about their policy promises. However, it is beneficial to explore how voters can affect which candidates policy promises in which way."
   ]
  },
  {
   "cell_type": "markdown",
   "metadata": {},
   "source": [
    "---\n",
    "# 8. References\n",
    "---"
   ]
  },
  {
   "cell_type": "markdown",
   "metadata": {},
   "source": [
    "* **Alesina, Alberto,** “Credibility and Policy Convergence in a Two-Party System with Rational Voters,” American Economic Review, LXXVIII (1988), 796–805.\n",
    "\n",
    "\n",
    "* **Alesina, Alberto, and Stephen E. Spear,** “An Overlapping Generations Model of Electoral Competition,” Journal of Public Economics, XXXVII (1988), 359–379.\n",
    "\n",
    "\n",
    "* **Downs, Anthony,** An Economic Theory of Democracy (New York, NY: Harper and Row, 1957).\n",
    "\n",
    "\n",
    "* **Lee, D. S., & Lemieux, T. (2010)**. Regression Discontinuity Designs in Economics. *Journal of Economic Literature*, 48(2), 281-355.\n",
    "\n",
    "\n",
    "* **McCrary, J. (2008)**. Manipulation of the Running Variable in the Regression Discontinuity Design: A Design Test. *Journal of Econometrics*, 142: 698–714. \n",
    "\n",
    "\n",
    "* **Wittman, Donald,** “Candidate Motivation: A Synthesis of Alternative Theories,” American Political Science Review, LXXVII (1983), 142–157.\n",
    "\n"
   ]
  },
  {
   "cell_type": "markdown",
   "metadata": {},
   "source": [
    "-------\n",
    "Notebook by Gözde Özden \n",
    "\n",
    "---"
   ]
  }
 ],
 "metadata": {
  "kernelspec": {
   "display_name": "Python 3",
   "language": "python",
   "name": "python3"
  },
  "language_info": {
   "codemirror_mode": {
    "name": "ipython",
    "version": 3
   },
   "file_extension": ".py",
   "mimetype": "text/x-python",
   "name": "python",
   "nbconvert_exporter": "python",
   "pygments_lexer": "ipython3",
   "version": "3.8.5"
  },
  "toc": {
   "base_numbering": 1,
   "nav_menu": {},
   "number_sections": false,
   "sideBar": true,
   "skip_h1_title": false,
   "title_cell": "Table of Contents",
   "title_sidebar": "Contents",
   "toc_cell": true,
   "toc_position": {
    "height": "622.641px",
    "left": "691px",
    "top": "110px",
    "width": "277.4px"
   },
   "toc_section_display": true,
   "toc_window_display": true
  },
  "varInspector": {
   "cols": {
    "lenName": 16,
    "lenType": 16,
    "lenVar": 40
   },
   "kernels_config": {
    "python": {
     "delete_cmd_postfix": "",
     "delete_cmd_prefix": "del ",
     "library": "var_list.py",
     "varRefreshCmd": "print(var_dic_list())"
    },
    "r": {
     "delete_cmd_postfix": ") ",
     "delete_cmd_prefix": "rm(",
     "library": "var_list.r",
     "varRefreshCmd": "cat(var_dic_list()) "
    }
   },
   "oldHeight": 189.73845400000002,
   "position": {
    "height": "478.719px",
    "left": "987.578px",
    "right": "20px",
    "top": "283.984px",
    "width": "717.172px"
   },
   "types_to_exclude": [
    "module",
    "function",
    "builtin_function_or_method",
    "instance",
    "_Feature"
   ],
   "varInspector_section_display": "block",
   "window_display": false
  }
 },
 "nbformat": 4,
 "nbformat_minor": 2
}
